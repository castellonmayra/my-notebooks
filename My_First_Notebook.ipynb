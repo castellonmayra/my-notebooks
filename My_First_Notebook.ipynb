{
  "nbformat": 4,
  "nbformat_minor": 0,
  "metadata": {
    "colab": {
      "name": "My First Notebook",
      "provenance": [],
      "authorship_tag": "ABX9TyNUOnZJP62NWc2Os4X+i9KX",
      "include_colab_link": true
    },
    "kernelspec": {
      "name": "python3",
      "display_name": "Python 3"
    },
    "language_info": {
      "name": "python"
    }
  },
  "cells": [
    {
      "cell_type": "markdown",
      "metadata": {
        "id": "view-in-github",
        "colab_type": "text"
      },
      "source": [
        "<a href=\"https://colab.research.google.com/github/castellonmayra/my-notebooks/blob/main/My_First_Notebook.ipynb\" target=\"_parent\"><img src=\"https://colab.research.google.com/assets/colab-badge.svg\" alt=\"Open In Colab\"/></a>"
      ]
    },
    {
      "cell_type": "code",
      "execution_count": null,
      "metadata": {
        "id": "nSlHUFWwWVfJ"
      },
      "outputs": [],
      "source": [
        "1 "
      ]
    },
    {
      "cell_type": "code",
      "source": [
        ""
      ],
      "metadata": {
        "id": "xyjmLM5aXMWT"
      },
      "execution_count": null,
      "outputs": []
    },
    {
      "cell_type": "markdown",
      "source": [
        "this is some text\n",
        "we can write in any language or in \"markdown\"\n",
        "\n",
        "https://www.markdownguide.org/cheat-sheet/\n",
        "\n",
        "**bold text**\n",
        "\n",
        "#Heading\n",
        "##Heading Level 2\n",
        "###Heading Level 3\n",
        "\n",
        "here is a list:\n",
        "  + item 1\n",
        "  + item 2\n",
        "\n",
        "here is a numbered listed\n",
        "  1. item 1\n",
        "  2. item 2\n",
        "\n",
        "this is a link: [link name](https://www.markdownguide.org/cheat-sheet/)\n",
        "\n",
        "this is a code block (we'll use a README files):\n",
        "\n",
        "```\n",
        "hello \n",
        "```\n",
        "\n",
        "**STEP 4 from instructions** \n",
        "**paste in a code block (below in text is markdown, in code block its python - know which syntax you are using)**\n",
        "\n",
        "```\n",
        "# This is some example Python code\n",
        "# These lines starting with \"#\" are \"comments\"\n",
        "# Remember \"#\" means something different in Markdown than it does in Python\n",
        "\n",
        "print(\"HELLO WORLD!\")\n",
        "\n",
        "x = 2 + 2\n",
        "print(x)\n",
        "```\n",
        "\n",
        "\n",
        "\n"
      ],
      "metadata": {
        "id": "-x-NqKwXXT7K"
      }
    },
    {
      "cell_type": "code",
      "source": [
        "# This is some example Python code\n",
        "# These lines starting with \"#\" are \"comments\"\n",
        "# Remember \"#\" means something different in Markdown than it does in Python\n",
        "\n",
        "print(\"HELLO WORLD!\")\n",
        "\n",
        "x = 2 + 2\n",
        "print(x)"
      ],
      "metadata": {
        "colab": {
          "base_uri": "https://localhost:8080/"
        },
        "id": "0Is9YBBqYuKq",
        "outputId": "f786ca2d-b9ba-47ba-d4d8-6635f2bdd021"
      },
      "execution_count": null,
      "outputs": [
        {
          "output_type": "stream",
          "name": "stdout",
          "text": [
            "HELLO WORLD!\n",
            "4\n"
          ]
        }
      ]
    }
  ]
}